{
 "cells": [
  {
   "cell_type": "code",
   "execution_count": 387,
   "metadata": {},
   "outputs": [],
   "source": [
    "import pandas as pd\n",
    "import numpy as np\n",
    "from matplotlib import pyplot as plt\n",
    "\n",
    "import tqdm\n",
    "import torch\n",
    "import torch.nn as nn\n",
    "import torch.optim as optim\n",
    "from torch.utils.data import DataLoader, Dataset\n",
    "from sklearn.model_selection import train_test_split\n",
    "from sklearn.preprocessing import LabelEncoder\n",
    "from transformers import BertTokenizer, BertModel\n",
    "from transformers import AutoModel, AutoTokenizer"
   ]
  },
  {
   "cell_type": "code",
   "execution_count": 369,
   "metadata": {},
   "outputs": [],
   "source": [
    "import sys\n",
    "import os\n",
    "os.environ[\"TOKENIZERS_PARALLELISM\"] = \"false\"\n",
    "\n",
    "src_dir = os.path.join(os.getcwd(), 'src')\n",
    "sys.path.append(os.path.abspath(src_dir))\n",
    "\n",
    "from importlib import reload\n",
    "\n",
    "import src.data.dataset\n",
    "\n",
    "reload(src.data.dataset)\n",
    "\n",
    "from src.data.dataset import TrainDataset"
   ]
  },
  {
   "cell_type": "code",
   "execution_count": 370,
   "metadata": {},
   "outputs": [],
   "source": [
    "train_df = pd.read_csv('./data/dataset/train.csv')\n",
    "valid_df = pd.read_csv('./data/dataset/valid.csv')\n",
    "# test_df = pd.read_csv('./data/dataset/test.csv')"
   ]
  },
  {
   "cell_type": "code",
   "execution_count": 371,
   "metadata": {},
   "outputs": [],
   "source": [
    "new_train_df = pd.DataFrame()\n",
    "new_valid_df = pd.DataFrame()\n",
    "\n",
    "for i in range(10):\n",
    "    train_df_subset = train_df[train_df[\"arrival_train_station_id\"] == i].head(n=10)\n",
    "    new_train_df = pd.concat([new_train_df, train_df_subset])\n",
    "    valid_df_subset = valid_df[valid_df[\"arrival_train_station_id\"] == i].head(n=2)\n",
    "    new_valid_df = pd.concat([new_valid_df, valid_df_subset])\n",
    "\n",
    "train_df = new_train_df.reset_index(drop=True)\n",
    "valid_df = new_valid_df.reset_index(drop=True)"
   ]
  },
  {
   "cell_type": "code",
   "execution_count": 372,
   "metadata": {},
   "outputs": [],
   "source": [
    "# tokenizer = BertTokenizer.from_pretrained('distilbert-base-multilingual-cased')\n",
    "tokenizer = AutoTokenizer.from_pretrained(\"dbmdz/bert-base-french-europeana-cased\")\n",
    "\n",
    "max_len = 128"
   ]
  },
  {
   "cell_type": "code",
   "execution_count": 373,
   "metadata": {},
   "outputs": [],
   "source": [
    "le_depart = LabelEncoder()\n",
    "le_arrival = LabelEncoder()\n",
    "\n",
    "# Combinez les colonnes 'departure' et 'arrival' de tous les ensembles de données\n",
    "all_departures = pd.concat([train_df['departure'], valid_df['departure']])\n",
    "all_arrivals = pd.concat([train_df['arrival'], valid_df['arrival']])\n",
    "\n",
    "# Ajustez les encodeurs sur l'ensemble combiné\n",
    "le_depart.fit(all_departures)\n",
    "le_arrival.fit(all_arrivals)\n",
    "\n",
    "train_df['departure'] = le_depart.transform(train_df['departure'])\n",
    "train_df['arrival'] = le_arrival.transform(train_df['arrival'])\n",
    "\n",
    "# Transformez les ensembles de validation et de test en utilisant les encodeurs ajustés\n",
    "valid_df['departure'] = le_depart.transform(valid_df['departure'])\n",
    "valid_df['arrival'] = le_arrival.transform(valid_df['arrival'])"
   ]
  },
  {
   "cell_type": "code",
   "execution_count": 374,
   "metadata": {},
   "outputs": [],
   "source": [
    "train_dataset = TrainDataset(\n",
    "    train_df[\"sentence\"], train_df[\"departure\"], train_df[\"arrival\"], tokenizer, max_len)\n",
    "val_dataset = TrainDataset(\n",
    "    valid_df[\"sentence\"], valid_df[\"departure\"], valid_df[\"arrival\"], tokenizer, max_len)\n",
    "\n",
    "train_loader = DataLoader(\n",
    "    train_dataset, batch_size=1, shuffle=True, pin_memory=True, num_workers=4)\n",
    "val_loader = DataLoader(val_dataset, batch_size=2, shuffle=False, pin_memory=True)"
   ]
  },
  {
   "cell_type": "code",
   "execution_count": 375,
   "metadata": {},
   "outputs": [],
   "source": [
    "class BertForSequenceClassification(nn.Module):\n",
    "    def __init__(self, n_depart, n_arrival):\n",
    "        super(BertForSequenceClassification, self).__init__()\n",
    "        # self.bert = BertModel.from_pretrained('distilbert-base-multilingual-cased')\n",
    "        self.bert = AutoModel.from_pretrained(\"dbmdz/bert-base-french-europeana-cased\")\n",
    "        self.drop = nn.Dropout(p=0.3)\n",
    "        self.out_depart = nn.Linear(self.bert.config.hidden_size, n_depart)\n",
    "        self.out_arrival = nn.Linear(self.bert.config.hidden_size, n_arrival)\n",
    "\n",
    "    def forward(self, input_ids, attention_mask):\n",
    "        outputs = self.bert(\n",
    "            input_ids=input_ids,\n",
    "            attention_mask=attention_mask\n",
    "        )\n",
    "        pooled_output = outputs[1]\n",
    "        output_depart = self.out_depart(self.drop(pooled_output))\n",
    "        output_arrival = self.out_arrival(self.drop(pooled_output))\n",
    "        return output_depart, output_arrival"
   ]
  },
  {
   "cell_type": "code",
   "execution_count": 376,
   "metadata": {},
   "outputs": [],
   "source": [
    "model = BertForSequenceClassification(len(le_depart.classes_), len(le_arrival.classes_))\n",
    "model = model.to('cpu')"
   ]
  },
  {
   "cell_type": "code",
   "execution_count": 377,
   "metadata": {},
   "outputs": [],
   "source": [
    "optimizer = optim.Adam(model.parameters(), lr=2e-5)\n",
    "loss_fn = nn.CrossEntropyLoss().to('cpu')\n",
    "\n",
    "def train_epoch(model, data_loader_train, data_loader_valid, loss_fn, optimizer, device, current_epoch):\n",
    "    model = model.train()\n",
    "    losses_train = []\n",
    "    losses_valid = []\n",
    "    correct_predictions_train = 0\n",
    "    correct_predictions_valid = 0\n",
    "\n",
    "    for d in tqdm.tqdm(data_loader_train, desc=f\"Epoch {current_epoch}\", unit=\"batch\"):\n",
    "        input_ids = d[\"input_ids\"].to(device)\n",
    "        attention_mask = d[\"attention_mask\"].to(device)\n",
    "        labels_depart = d[\"departure\"].to(device)\n",
    "        labels_arrival = d[\"arrival\"].to(device)\n",
    "\n",
    "        optimizer.zero_grad()\n",
    "\n",
    "        outputs_depart, outputs_arrival = model(\n",
    "            input_ids=input_ids,\n",
    "            attention_mask=attention_mask\n",
    "        )\n",
    "\n",
    "        loss_depart = loss_fn(outputs_depart, labels_depart)\n",
    "        loss_arrival = loss_fn(outputs_arrival, labels_arrival)\n",
    "        loss = loss_depart + loss_arrival\n",
    "\n",
    "        correct_predictions_train += (outputs_depart.argmax(1) == labels_depart).sum().item()\n",
    "        correct_predictions_train += (outputs_arrival.argmax(1) == labels_arrival).sum().item()\n",
    "\n",
    "        losses_train.append(loss.item())\n",
    "\n",
    "        loss.backward()\n",
    "        optimizer.step()\n",
    "\n",
    "    model = model.eval()\n",
    "\n",
    "    for d in data_loader_valid:\n",
    "        input_ids = d[\"input_ids\"].to(device)\n",
    "        attention_mask = d[\"attention_mask\"].to(device)\n",
    "        labels_depart = d[\"departure\"].to(device)\n",
    "        labels_arrival = d[\"arrival\"].to(device)\n",
    "\n",
    "        outputs_depart, outputs_arrival = model(\n",
    "            input_ids=input_ids,\n",
    "            attention_mask=attention_mask\n",
    "        )\n",
    "\n",
    "        loss_depart = loss_fn(outputs_depart, labels_depart)\n",
    "        loss_arrival = loss_fn(outputs_arrival, labels_arrival)\n",
    "        loss = loss_depart + loss_arrival\n",
    "\n",
    "        correct_predictions_valid += (outputs_depart.argmax(1) == labels_depart).sum().item()\n",
    "        correct_predictions_valid += (outputs_arrival.argmax(1) == labels_arrival).sum().item()\n",
    "\n",
    "        losses_valid.append(loss.item())\n",
    "\n",
    "    train_acc = correct_predictions_train / (2 * len(data_loader_train.dataset))\n",
    "    train_loss = np.mean(losses_train)\n",
    "\n",
    "    valid_acc = correct_predictions_valid / (2 * len(data_loader_valid.dataset))\n",
    "    valid_loss = np.mean(losses_valid)\n",
    "\n",
    "    return {\"train_acc\": train_acc, \"train_loss\": train_loss, \"valid_acc\": valid_acc, \"valid_loss\": valid_loss}"
   ]
  },
  {
   "cell_type": "code",
   "execution_count": 378,
   "metadata": {},
   "outputs": [],
   "source": [
    "sentence = f\"Je souhaite aller de {le_depart.classes_[0]} à {le_arrival.classes_[0]}.\"\n",
    "# Tokenisez la phrase\n",
    "inputs = tokenizer(sentence, return_tensors=\"pt\")\n",
    "\n",
    "# Récupérez les input_ids et attention_mask\n",
    "input_ids = inputs[\"input_ids\"]\n",
    "attention_mask = inputs[\"attention_mask\"]\n"
   ]
  },
  {
   "cell_type": "code",
   "execution_count": 379,
   "metadata": {},
   "outputs": [
    {
     "name": "stdout",
     "output_type": "stream",
     "text": [
      "Je souhaite aller de Aixe-sur-Vienne à Aire-sur-la-Lys.\n",
      "Depart: Langeac, Arrival: Flez-Cuzy-Tannay\n"
     ]
    }
   ],
   "source": [
    "print(sentence)\n",
    "\n",
    "with torch.no_grad():  # Désactivez la grad pour économiser de la mémoire\n",
    "    outputs = model(input_ids=input_ids, attention_mask=attention_mask)\n",
    "\n",
    "# print(torch.max(outputs[0], 1))\n",
    "depart = le_depart.inverse_transform(torch.max(outputs[0], 1).indices)\n",
    "arrival = le_arrival.inverse_transform(torch.max(outputs[1], 1).indices)\n",
    "print(f\"Depart: {depart[0]}, Arrival: {arrival[0]}\")"
   ]
  },
  {
   "cell_type": "code",
   "execution_count": 380,
   "metadata": {},
   "outputs": [
    {
     "name": "stderr",
     "output_type": "stream",
     "text": [
      "Epoch 1: 100%|████████████████████████████████████| 100/100 [01:11<00:00,  1.41batch/s]\n"
     ]
    },
    {
     "name": "stdout",
     "output_type": "stream",
     "text": [
      "{'train_acc': 0.045, 'train_loss': 7.21910728931427, 'valid_acc': 0.05, 'valid_loss': 7.1351673126220705}\n"
     ]
    },
    {
     "name": "stderr",
     "output_type": "stream",
     "text": [
      "Epoch 2: 100%|████████████████████████████████████| 100/100 [01:16<00:00,  1.31batch/s]\n"
     ]
    },
    {
     "name": "stdout",
     "output_type": "stream",
     "text": [
      "{'train_acc': 0.045, 'train_loss': 7.200993709564209, 'valid_acc': 0.075, 'valid_loss': 7.3102757930755615}\n"
     ]
    },
    {
     "name": "stderr",
     "output_type": "stream",
     "text": [
      "Epoch 3: 100%|████████████████████████████████████| 100/100 [01:11<00:00,  1.41batch/s]\n"
     ]
    },
    {
     "name": "stdout",
     "output_type": "stream",
     "text": [
      "{'train_acc': 0.11, 'train_loss': 7.027466611862183, 'valid_acc': 0.325, 'valid_loss': 7.0269640445709225}\n"
     ]
    },
    {
     "name": "stderr",
     "output_type": "stream",
     "text": [
      "Epoch 4: 100%|████████████████████████████████████| 100/100 [01:09<00:00,  1.43batch/s]\n"
     ]
    },
    {
     "name": "stdout",
     "output_type": "stream",
     "text": [
      "{'train_acc': 0.305, 'train_loss': 6.333118481636047, 'valid_acc': 0.4, 'valid_loss': 6.4460768699646}\n"
     ]
    },
    {
     "name": "stderr",
     "output_type": "stream",
     "text": [
      "Epoch 5: 100%|████████████████████████████████████| 100/100 [01:10<00:00,  1.43batch/s]\n"
     ]
    },
    {
     "name": "stdout",
     "output_type": "stream",
     "text": [
      "{'train_acc': 0.48, 'train_loss': 5.544565706253052, 'valid_acc': 0.5, 'valid_loss': 5.670116710662842}\n"
     ]
    }
   ],
   "source": [
    "history = []\n",
    "epochs = 5\n",
    "\n",
    "for epoch in range(epochs):\n",
    "    results = train_epoch(\n",
    "        model,\n",
    "        train_loader,\n",
    "        val_loader,\n",
    "        loss_fn,\n",
    "        optimizer,\n",
    "        'cpu',\n",
    "        epoch + 1\n",
    "    )\n",
    "    print(results)\n",
    "    history.append(results)"
   ]
  },
  {
   "cell_type": "code",
   "execution_count": 401,
   "metadata": {},
   "outputs": [
    {
     "name": "stdout",
     "output_type": "stream",
     "text": [
      "Je souhaite aller de la gare de Ambérieu à la gare de Byans en passant par Chamelet.\n",
      "Depart: Bischheim, Arrival: Byans\n"
     ]
    }
   ],
   "source": [
    "sentence = f\"Je souhaite aller de la gare de {le_depart.classes_[1]} à la gare de Byans en passant par {le_arrival.classes_[2]}.\"\n",
    "# Tokenisez la phrase\n",
    "inputs = tokenizer(sentence, return_tensors=\"pt\")\n",
    "\n",
    "# Récupérez les input_ids et attention_mask\n",
    "input_ids = inputs[\"input_ids\"]\n",
    "attention_mask = inputs[\"attention_mask\"]\n",
    "\n",
    "print(sentence)\n",
    "\n",
    "with torch.no_grad():  # Désactivez la grad pour économiser de la mémoire\n",
    "    outputs = model(input_ids=input_ids, attention_mask=attention_mask)\n",
    "\n",
    "# print(torch.max(outputs[0], 1))\n",
    "depart = le_depart.inverse_transform(torch.max(outputs[0], 1).indices)\n",
    "arrival = le_arrival.inverse_transform(torch.max(outputs[1], 1).indices)\n",
    "print(f\"Depart: {depart[0]}, Arrival: {arrival[0]}\")"
   ]
  },
  {
   "cell_type": "code",
   "execution_count": 237,
   "metadata": {},
   "outputs": [],
   "source": [
    "model.out_arrival = nn.Linear(model.bert.config.hidden_size, len(le_arrival.classes_))\n",
    "model.out_depart = nn.Linear(model.bert.config.hidden_size, len(le_depart.classes_))"
   ]
  }
 ],
 "metadata": {
  "kernelspec": {
   "display_name": "Python 3 (ipykernel)",
   "language": "python",
   "name": "python3"
  },
  "language_info": {
   "codemirror_mode": {
    "name": "ipython",
    "version": 3
   },
   "file_extension": ".py",
   "mimetype": "text/x-python",
   "name": "python",
   "nbconvert_exporter": "python",
   "pygments_lexer": "ipython3",
   "version": "3.12.2"
  }
 },
 "nbformat": 4,
 "nbformat_minor": 2
}

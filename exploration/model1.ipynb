{
 "cells": [
  {
   "cell_type": "code",
   "execution_count": 1,
   "metadata": {},
   "outputs": [],
   "source": [
    "import pandas as pd\n",
    "import numpy as np\n",
    "\n",
    "import tqdm\n",
    "import torch\n",
    "import torch.nn as nn\n",
    "import torch.optim as optim\n",
    "from torch.utils.data import DataLoader, Dataset\n",
    "from sklearn.model_selection import train_test_split\n",
    "from sklearn.preprocessing import LabelEncoder\n",
    "from transformers import BertTokenizer, BertModel\n",
    "from transformers import AutoModel, AutoTokenizer"
   ]
  },
  {
   "cell_type": "code",
   "execution_count": 2,
   "metadata": {},
   "outputs": [],
   "source": [
    "import sys\n",
    "import os\n",
    "os.environ[\"TOKENIZERS_PARALLELISM\"] = \"false\"\n",
    "\n",
    "src_dir = os.path.join(os.getcwd(), 'src')\n",
    "sys.path.append(os.path.abspath(src_dir))\n",
    "\n",
    "from importlib import reload\n",
    "\n",
    "import src.data.dataset\n",
    "\n",
    "reload(src.data.dataset)\n",
    "\n",
    "from src.data.dataset import TrainDataset"
   ]
  },
  {
   "cell_type": "code",
   "execution_count": 3,
   "metadata": {},
   "outputs": [],
   "source": [
    "train_df = pd.read_csv('./data/dataset/train.csv', nrows=30)\n",
    "valid_df = pd.read_csv('./data/dataset/valid.csv', nrows=20)\n",
    "test_df = pd.read_csv('./data/dataset/test.csv', nrows=20)"
   ]
  },
  {
   "cell_type": "code",
   "execution_count": 4,
   "metadata": {},
   "outputs": [],
   "source": [
    "# tokenizer = BertTokenizer.from_pretrained('distilbert-base-multilingual-cased')\n",
    "tokenizer = AutoTokenizer.from_pretrained(\"dbmdz/bert-base-french-europeana-cased\")\n",
    "\n",
    "max_len = 128"
   ]
  },
  {
   "cell_type": "code",
   "execution_count": 5,
   "metadata": {},
   "outputs": [],
   "source": [
    "le_depart = LabelEncoder()\n",
    "le_arrival = LabelEncoder()\n",
    "\n",
    "# Combinez les colonnes 'departure' et 'arrival' de tous les ensembles de données\n",
    "all_departures = pd.concat([train_df['departure'], valid_df['departure'], test_df['departure']])\n",
    "all_arrivals = pd.concat([train_df['arrival'], valid_df['arrival'], test_df['arrival']])\n",
    "\n",
    "# Ajustez les encodeurs sur l'ensemble combiné\n",
    "le_depart.fit(all_departures)\n",
    "le_arrival.fit(all_arrivals)\n",
    "\n",
    "train_df['departure'] = le_depart.transform(train_df['departure'])\n",
    "train_df['arrival'] = le_arrival.transform(train_df['arrival'])\n",
    "\n",
    "# Transformez les ensembles de validation et de test en utilisant les encodeurs ajustés\n",
    "valid_df['departure'] = le_depart.transform(valid_df['departure'])\n",
    "valid_df['arrival'] = le_arrival.transform(valid_df['arrival'])\n",
    "\n",
    "test_df['departure'] = le_depart.transform(test_df['departure'])\n",
    "test_df['arrival'] = le_arrival.transform(test_df['arrival'])"
   ]
  },
  {
   "cell_type": "code",
   "execution_count": 6,
   "metadata": {},
   "outputs": [],
   "source": [
    "train_dataset = TrainDataset(\n",
    "    train_df[\"sentence\"], train_df[\"departure\"], train_df[\"arrival\"], tokenizer, max_len)\n",
    "val_dataset = TrainDataset(\n",
    "    valid_df[\"sentence\"], valid_df[\"departure\"], valid_df[\"arrival\"], tokenizer, max_len)\n",
    "test_dataset = TrainDataset(\n",
    "    test_df[\"sentence\"], test_df[\"departure\"], test_df[\"arrival\"], tokenizer, max_len)\n",
    "\n",
    "train_loader = DataLoader(\n",
    "    train_dataset, batch_size=2, shuffle=True, pin_memory=True, num_workers=4)\n",
    "val_loader = DataLoader(val_dataset, batch_size=2, shuffle=False, pin_memory=True)\n",
    "test_loader = DataLoader(test_dataset, batch_size=2, shuffle=False, pin_memory=True)"
   ]
  },
  {
   "cell_type": "code",
   "execution_count": 7,
   "metadata": {},
   "outputs": [],
   "source": [
    "class BertForSequenceClassification(nn.Module):\n",
    "    def __init__(self, n_depart, n_arrival):\n",
    "        super(BertForSequenceClassification, self).__init__()\n",
    "        # self.bert = BertModel.from_pretrained('distilbert-base-multilingual-cased')\n",
    "        self.bert = AutoModel.from_pretrained(\"dbmdz/bert-base-french-europeana-cased\")\n",
    "        self.drop = nn.Dropout(p=0.3)\n",
    "        self.out_depart = nn.Linear(self.bert.config.hidden_size, n_depart)\n",
    "        self.out_arrival = nn.Linear(self.bert.config.hidden_size, n_arrival)\n",
    "\n",
    "    def forward(self, input_ids, attention_mask):\n",
    "        outputs = self.bert(\n",
    "            input_ids=input_ids,\n",
    "            attention_mask=attention_mask\n",
    "        )\n",
    "        pooled_output = outputs[1]\n",
    "        output_depart = self.out_depart(self.drop(pooled_output))\n",
    "        output_arrival = self.out_arrival(self.drop(pooled_output))\n",
    "        return output_depart, output_arrival"
   ]
  },
  {
   "cell_type": "code",
   "execution_count": 8,
   "metadata": {},
   "outputs": [],
   "source": [
    "model = BertForSequenceClassification(len(le_depart.classes_), len(le_arrival.classes_))\n",
    "model = model.to('cpu')"
   ]
  },
  {
   "cell_type": "code",
   "execution_count": 9,
   "metadata": {},
   "outputs": [],
   "source": [
    "optimizer = optim.Adam(model.parameters(), lr=2e-5)\n",
    "loss_fn = nn.CrossEntropyLoss().to('cpu')\n",
    "\n",
    "def train_epoch(model, data_loader, loss_fn, optimizer, device, current_epoch):\n",
    "    model = model.train()\n",
    "    losses = []\n",
    "    correct_predictions = 0\n",
    "\n",
    "    for d in tqdm.tqdm(data_loader, desc=f\"Epoch {current_epoch}\", unit=\"batch\"):\n",
    "        input_ids = d[\"input_ids\"].to(device)\n",
    "        attention_mask = d[\"attention_mask\"].to(device)\n",
    "        labels_depart = d[\"departure\"].to(device)\n",
    "        labels_arrival = d[\"arrival\"].to(device)\n",
    "\n",
    "        optimizer.zero_grad()\n",
    "\n",
    "        outputs_depart, outputs_arrival = model(\n",
    "            input_ids=input_ids,\n",
    "            attention_mask=attention_mask\n",
    "        )\n",
    "\n",
    "        loss_depart = loss_fn(outputs_depart, labels_depart)\n",
    "        loss_arrival = loss_fn(outputs_arrival, labels_arrival)\n",
    "        loss = loss_depart + loss_arrival\n",
    "\n",
    "        correct_predictions += (outputs_depart.argmax(1) == labels_depart).sum().item()\n",
    "        correct_predictions += (outputs_arrival.argmax(1) == labels_arrival).sum().item()\n",
    "\n",
    "        losses.append(loss.item())\n",
    "\n",
    "        loss.backward()\n",
    "        optimizer.step()\n",
    "\n",
    "    return correct_predictions / (2 * len(data_loader.dataset)), np.mean(losses)"
   ]
  },
  {
   "cell_type": "code",
   "execution_count": 10,
   "metadata": {},
   "outputs": [],
   "source": [
    "sentence = f\"Je souhaite aller de {le_depart.classes_[0]} à {le_arrival.classes_[0]}.\"\n",
    "# Tokenisez la phrase\n",
    "inputs = tokenizer(sentence, return_tensors=\"pt\")\n",
    "\n",
    "# Récupérez les input_ids et attention_mask\n",
    "input_ids = inputs[\"input_ids\"]\n",
    "attention_mask = inputs[\"attention_mask\"]\n"
   ]
  },
  {
   "cell_type": "code",
   "execution_count": 11,
   "metadata": {},
   "outputs": [
    {
     "name": "stdout",
     "output_type": "stream",
     "text": [
      "Je souhaite aller de Aix-en-Provence à Auch.\n",
      "Depart: Évreux-Embranchement, Arrival: Nogent-le-Rotrou\n"
     ]
    }
   ],
   "source": [
    "print(sentence)\n",
    "\n",
    "with torch.no_grad():  # Désactivez la grad pour économiser de la mémoire\n",
    "    outputs = model(input_ids=input_ids, attention_mask=attention_mask)\n",
    "\n",
    "# print(torch.max(outputs[0], 1))\n",
    "depart = le_depart.inverse_transform(torch.max(outputs[0], 1).indices)\n",
    "arrival = le_arrival.inverse_transform(torch.max(outputs[1], 1).indices)\n",
    "print(f\"Depart: {depart[0]}, Arrival: {arrival[0]}\")"
   ]
  },
  {
   "cell_type": "code",
   "execution_count": 12,
   "metadata": {},
   "outputs": [
    {
     "name": "stderr",
     "output_type": "stream",
     "text": [
      "Epoch 1:   0%|                                                   | 0/15 [00:00<?, ?batch/s]"
     ]
    },
    {
     "name": "stderr",
     "output_type": "stream",
     "text": [
      "Epoch 1: 100%|██████████████████████████████████████████| 15/15 [00:35<00:00,  2.37s/batch]\n"
     ]
    },
    {
     "name": "stdout",
     "output_type": "stream",
     "text": [
      "Train loss 8.641998545328777 accuracy 0.0\n"
     ]
    },
    {
     "name": "stderr",
     "output_type": "stream",
     "text": [
      "Epoch 2: 100%|██████████████████████████████████████████| 15/15 [00:35<00:00,  2.37s/batch]"
     ]
    },
    {
     "name": "stdout",
     "output_type": "stream",
     "text": [
      "Train loss 8.270745627085368 accuracy 0.0\n"
     ]
    },
    {
     "name": "stderr",
     "output_type": "stream",
     "text": [
      "\n"
     ]
    }
   ],
   "source": [
    "history = []\n",
    "epochs = 2\n",
    "\n",
    "for epoch in range(epochs):\n",
    "    train_acc, train_loss = train_epoch(\n",
    "        model,\n",
    "        train_loader,\n",
    "        loss_fn,\n",
    "        optimizer,\n",
    "        'cpu',\n",
    "        epoch + 1\n",
    "    )\n",
    "    print(f'Train loss {train_loss} accuracy {train_acc}')\n",
    "    history.append({'epoch': epoch + 1, 'train_loss': train_loss, 'train_acc': train_acc})"
   ]
  }
 ],
 "metadata": {
  "kernelspec": {
   "display_name": "Python 3 (ipykernel)",
   "language": "python",
   "name": "python3"
  },
  "language_info": {
   "codemirror_mode": {
    "name": "ipython",
    "version": 3
   },
   "file_extension": ".py",
   "mimetype": "text/x-python",
   "name": "python",
   "nbconvert_exporter": "python",
   "pygments_lexer": "ipython3",
   "version": "3.12.2"
  }
 },
 "nbformat": 4,
 "nbformat_minor": 2
}

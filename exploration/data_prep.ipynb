{
 "cells": [
  {
   "cell_type": "code",
   "execution_count": 2,
   "metadata": {},
   "outputs": [],
   "source": [
    "import pandas as pd\n",
    "import tqdm"
   ]
  },
  {
   "cell_type": "code",
   "execution_count": 4,
   "metadata": {},
   "outputs": [],
   "source": [
    "brute_sentences_df = pd.read_csv('./data/dataset/brute_sentences.csv')\n",
    "train_station_df = pd.read_csv('./data/liste-des-gares.csv', sep=';')"
   ]
  },
  {
   "cell_type": "code",
   "execution_count": 23,
   "metadata": {},
   "outputs": [
    {
     "data": {
      "text/html": [
       "<div>\n",
       "<style scoped>\n",
       "    .dataframe tbody tr th:only-of-type {\n",
       "        vertical-align: middle;\n",
       "    }\n",
       "\n",
       "    .dataframe tbody tr th {\n",
       "        vertical-align: top;\n",
       "    }\n",
       "\n",
       "    .dataframe thead th {\n",
       "        text-align: right;\n",
       "    }\n",
       "</style>\n",
       "<table border=\"1\" class=\"dataframe\">\n",
       "  <thead>\n",
       "    <tr style=\"text-align: right;\">\n",
       "      <th></th>\n",
       "      <th>CODE_UIC</th>\n",
       "      <th>LIBELLE</th>\n",
       "      <th>FRET</th>\n",
       "      <th>VOYAGEURS</th>\n",
       "      <th>CODE_LIGNE</th>\n",
       "      <th>RG_TRONCON</th>\n",
       "      <th>PK</th>\n",
       "      <th>COMMUNE</th>\n",
       "      <th>DEPARTEMEN</th>\n",
       "      <th>IDRESEAU</th>\n",
       "      <th>IDGAIA</th>\n",
       "      <th>X_L93</th>\n",
       "      <th>Y_L93</th>\n",
       "      <th>X_WGS84</th>\n",
       "      <th>Y_WGS84</th>\n",
       "      <th>C_GEO</th>\n",
       "      <th>Geo Point</th>\n",
       "      <th>Geo Shape</th>\n",
       "    </tr>\n",
       "  </thead>\n",
       "  <tbody>\n",
       "    <tr>\n",
       "      <th>2</th>\n",
       "      <td>87382218</td>\n",
       "      <td>La Défense</td>\n",
       "      <td>N</td>\n",
       "      <td>O</td>\n",
       "      <td>973000</td>\n",
       "      <td>1</td>\n",
       "      <td>008+295</td>\n",
       "      <td>PUTEAUX</td>\n",
       "      <td>HAUTS-DE-SEINE</td>\n",
       "      <td>4648</td>\n",
       "      <td>c0d4c69a-f312-11e3-90ff-015864e0362d</td>\n",
       "      <td>644164.1873</td>\n",
       "      <td>6.866206e+06</td>\n",
       "      <td>2.238472</td>\n",
       "      <td>48.893437</td>\n",
       "      <td>48.89343723770491, 2.2384716845345993</td>\n",
       "      <td>48.89343723768303, 2.2384716845345984</td>\n",
       "      <td>{\"coordinates\": [2.238471684534598, 48.8934372...</td>\n",
       "    </tr>\n",
       "  </tbody>\n",
       "</table>\n",
       "</div>"
      ],
      "text/plain": [
       "   CODE_UIC     LIBELLE FRET VOYAGEURS  CODE_LIGNE  RG_TRONCON       PK  \\\n",
       "2  87382218  La Défense    N         O      973000           1  008+295   \n",
       "\n",
       "   COMMUNE      DEPARTEMEN  IDRESEAU                                IDGAIA  \\\n",
       "2  PUTEAUX  HAUTS-DE-SEINE      4648  c0d4c69a-f312-11e3-90ff-015864e0362d   \n",
       "\n",
       "         X_L93         Y_L93   X_WGS84    Y_WGS84  \\\n",
       "2  644164.1873  6.866206e+06  2.238472  48.893437   \n",
       "\n",
       "                                   C_GEO  \\\n",
       "2  48.89343723770491, 2.2384716845345993   \n",
       "\n",
       "                               Geo Point  \\\n",
       "2  48.89343723768303, 2.2384716845345984   \n",
       "\n",
       "                                           Geo Shape  \n",
       "2  {\"coordinates\": [2.238471684534598, 48.8934372...  "
      ]
     },
     "execution_count": 23,
     "metadata": {},
     "output_type": "execute_result"
    }
   ],
   "source": [
    "train_station_df.loc[train_station_df.index == 2]"
   ]
  },
  {
   "cell_type": "code",
   "execution_count": 26,
   "metadata": {},
   "outputs": [
    {
     "name": "stderr",
     "output_type": "stream",
     "text": [
      "  0%|                                                          | 0/3884 [00:00<?, ?train station/s]"
     ]
    },
    {
     "name": "stderr",
     "output_type": "stream",
     "text": [
      "100%|███████████████████████████████████████████████| 3884/3884 [01:10<00:00, 55.17train station/s]\n"
     ]
    }
   ],
   "source": [
    "clean_df = []\n",
    "\n",
    "for index, train_station in enumerate(tqdm.tqdm(train_station_df[\"LIBELLE\"], unit=\"train station\")):\n",
    "    departure = train_station\n",
    "\n",
    "    for sentence in brute_sentences_df[\"sentence\"]:\n",
    "        arrival = train_station_df.sample()\n",
    "        while (arrival[\"LIBELLE\"].values[0] == departure):\n",
    "            arrival = train_station_df.sample()\n",
    "        \n",
    "        new_sentence = sentence.replace('[depart]', departure)\n",
    "        new_sentence = new_sentence.replace('[arrival]', arrival[\"LIBELLE\"].values[0])\n",
    "\n",
    "        new_row = {\n",
    "            'sentence': new_sentence,\n",
    "            'departure_train_station_id': index,\n",
    "            'departure': departure,\n",
    "            'arrival': arrival[\"LIBELLE\"].values[0],\n",
    "            'arrival_train_station_id': arrival.index[0],\n",
    "        }\n",
    "    \n",
    "        clean_df.append(new_row)\n",
    "\n",
    "clean_df = pd.DataFrame(clean_df)"
   ]
  },
  {
   "cell_type": "code",
   "execution_count": 35,
   "metadata": {},
   "outputs": [
    {
     "data": {
      "text/html": [
       "<div>\n",
       "<style scoped>\n",
       "    .dataframe tbody tr th:only-of-type {\n",
       "        vertical-align: middle;\n",
       "    }\n",
       "\n",
       "    .dataframe tbody tr th {\n",
       "        vertical-align: top;\n",
       "    }\n",
       "\n",
       "    .dataframe thead th {\n",
       "        text-align: right;\n",
       "    }\n",
       "</style>\n",
       "<table border=\"1\" class=\"dataframe\">\n",
       "  <thead>\n",
       "    <tr style=\"text-align: right;\">\n",
       "      <th></th>\n",
       "      <th>sentence</th>\n",
       "      <th>departure_train_station_id</th>\n",
       "      <th>departure</th>\n",
       "      <th>arrival</th>\n",
       "      <th>arrival_train_station_id</th>\n",
       "    </tr>\n",
       "  </thead>\n",
       "  <tbody>\n",
       "  </tbody>\n",
       "</table>\n",
       "</div>"
      ],
      "text/plain": [
       "Empty DataFrame\n",
       "Columns: [sentence, departure_train_station_id, departure, arrival, arrival_train_station_id]\n",
       "Index: []"
      ]
     },
     "execution_count": 35,
     "metadata": {},
     "output_type": "execute_result"
    }
   ],
   "source": [
    "clean_df.loc[\n",
    "    (clean_df[\"arrival_train_station_id\"] == 1) & \n",
    "    (clean_df[\"departure_train_station_id\"] == 2)\n",
    "]"
   ]
  },
  {
   "cell_type": "code",
   "execution_count": 5,
   "metadata": {},
   "outputs": [],
   "source": [
    "clean_df.to_csv('./data/dataset/clean_sentences.csv', index=False)"
   ]
  },
  {
   "cell_type": "code",
   "execution_count": 6,
   "metadata": {},
   "outputs": [],
   "source": [
    "clean_df_shuffled = clean_df.sample(frac=1)"
   ]
  },
  {
   "cell_type": "code",
   "execution_count": 7,
   "metadata": {},
   "outputs": [],
   "source": [
    "train_df = clean_df_shuffled[:int(len(clean_df_shuffled)*0.7)]\n",
    "valid_df = clean_df_shuffled[int(len(clean_df_shuffled)*0.7):int(len(clean_df_shuffled)*0.85)]\n",
    "test_df = clean_df_shuffled[int(len(clean_df_shuffled)*0.85):]"
   ]
  },
  {
   "cell_type": "code",
   "execution_count": 8,
   "metadata": {},
   "outputs": [],
   "source": [
    "train_df.to_csv('./data/dataset/train.csv', index=False)\n",
    "valid_df.to_csv('./data/dataset/valid.csv', index=False)\n",
    "test_df.to_csv('./data/dataset/test.csv', index=False)"
   ]
  }
 ],
 "metadata": {
  "kernelspec": {
   "display_name": "Python 3 (ipykernel)",
   "language": "python",
   "name": "python3"
  },
  "language_info": {
   "codemirror_mode": {
    "name": "ipython",
    "version": 3
   },
   "file_extension": ".py",
   "mimetype": "text/x-python",
   "name": "python",
   "nbconvert_exporter": "python",
   "pygments_lexer": "ipython3",
   "version": "3.12.2"
  }
 },
 "nbformat": 4,
 "nbformat_minor": 2
}

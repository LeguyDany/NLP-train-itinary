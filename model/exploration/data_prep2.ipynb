{
 "cells": [
  {
   "cell_type": "code",
   "execution_count": 31,
   "metadata": {},
   "outputs": [],
   "source": [
    "import spacy\n",
    "from tqdm.notebook import tqdm\n",
    "import pandas as pd\n",
    "import numpy as np"
   ]
  },
  {
   "cell_type": "code",
   "execution_count": 19,
   "metadata": {},
   "outputs": [],
   "source": [
    "import sys\n",
    "import os\n",
    "\n",
    "src_dir = os.path.join(os.getcwd(), 'src')\n",
    "sys.path.append(os.path.abspath(src_dir))\n",
    "\n",
    "from importlib import reload\n",
    "\n",
    "import model_2.data_type.enum\n",
    "\n",
    "reload(model_2.data_type.enum)\n",
    "\n",
    "from model_2.data_type.enum import CITY_TYPE"
   ]
  },
  {
   "cell_type": "code",
   "execution_count": 171,
   "metadata": {},
   "outputs": [],
   "source": [
    "nlp = spacy.load(\"fr_core_news_sm\")\n",
    "brute_sentences_df = pd.read_csv('../data/dataset/brute_sentences_2.csv')\n",
    "cities_df = pd.read_csv('../data/cities.csv', sep=',')"
   ]
  },
  {
   "cell_type": "code",
   "execution_count": 189,
   "metadata": {},
   "outputs": [],
   "source": [
    "def apply_tagging_to_sentence(sentence : str, clean_df, class_name):\n",
    "    if(class_name not in sentence):\n",
    "        return\n",
    "\n",
    "    doc_sentence = nlp(sentence)\n",
    "    sentence = [token_word.text for token_word in doc_sentence]\n",
    "    selected_word = None\n",
    "\n",
    "    number_of_repeats = sentence.count(class_name)\n",
    "    if(number_of_repeats > 0):\n",
    "        selected_word_number = np.random.randint(0, number_of_repeats)\n",
    "        indexes = [idx for idx, word in enumerate(sentence) if word == class_name]\n",
    "        selected_index = indexes[selected_word_number]\n",
    "\n",
    "    \n",
    "\n",
    "    for idx, word in enumerate(sentence):\n",
    "        word_is_in_types = word in CITY_TYPE._member_names_\n",
    "\n",
    "        if(word_is_in_types):\n",
    "            city = cities_df.sample()['label'].values[0].lower()\n",
    "\n",
    "            if(word == class_name and idx == selected_index):\n",
    "                city = f\"[[{city}]]\"\n",
    "                selected_word = city\n",
    "            elif(word == class_name and number_of_repeats == 0):\n",
    "                city = f\"[[{city}]]\"\n",
    "                selected_word = city\n",
    "\n",
    "            sentence[idx] = city\n",
    "\n",
    "    sentence = \" \".join(sentence)\n",
    "\n",
    "    clean_df.append(\n",
    "        {\n",
    "            \"sentence\": sentence,\n",
    "            \"class\": class_name,\n",
    "            \"word\": selected_word,\n",
    "        }\n",
    "    )"
   ]
  },
  {
   "cell_type": "code",
   "execution_count": 190,
   "metadata": {},
   "outputs": [
    {
     "data": {
      "text/plain": [
       "[{'sentence': 'je souhaite aller de fontaine sur maye à [[villeneuve st germain]] , comment est -ce que je peux y arriver ?',\n",
       "  'class': 'arrival',\n",
       "  'word': '[[villeneuve st germain]]'}]"
      ]
     },
     "execution_count": 190,
     "metadata": {},
     "output_type": "execute_result"
    }
   ],
   "source": [
    "clean_df = []\n",
    "\n",
    "apply_tagging_to_sentence(\n",
    "    \"je souhaite aller de departure à arrival, comment est-ce que je peux y arriver?\",\n",
    "    clean_df,\n",
    "    CITY_TYPE.arrival.value\n",
    ")\n",
    "\n",
    "clean_df"
   ]
  },
  {
   "cell_type": "code",
   "execution_count": 191,
   "metadata": {},
   "outputs": [
    {
     "data": {
      "application/vnd.jupyter.widget-view+json": {
       "model_id": "7df3091d1e654da4b3a90e514fb5ea41",
       "version_major": 2,
       "version_minor": 0
      },
      "text/plain": [
       "  0%|          | 0/20 [00:00<?, ?sentence/s]"
      ]
     },
     "metadata": {},
     "output_type": "display_data"
    }
   ],
   "source": [
    "clean_df = []\n",
    "\n",
    "with tqdm(total= 2 * 10, unit=\"sentence\") as pbar:\n",
    "    for idx, sentence in enumerate(brute_sentences_df[\"sentence\"]):\n",
    "        for i in range(1):\n",
    "\n",
    "            selected_class_idx = np.random.randint(0, CITY_TYPE.__len__())\n",
    "            selected_class = CITY_TYPE._member_names_[selected_class_idx]\n",
    "\n",
    "            apply_tagging_to_sentence(\n",
    "                sentence.lower(),\n",
    "                clean_df,\n",
    "                selected_class\n",
    "            )\n",
    "\n",
    "            pbar.update(1)\n",
    "\n",
    "clean_df = pd.DataFrame(clean_df)"
   ]
  },
  {
   "cell_type": "code",
   "execution_count": 21,
   "metadata": {},
   "outputs": [],
   "source": [
    "new_df_shuffled = clean_df.sample(frac=1)\n",
    "train_df = new_df_shuffled[:int(len(new_df_shuffled)*0.7)]\n",
    "valid_df = new_df_shuffled[int(len(new_df_shuffled)*0.7):int(len(new_df_shuffled)*0.85)]\n",
    "test_df = new_df_shuffled[int(len(new_df_shuffled)*0.85):]"
   ]
  },
  {
   "cell_type": "code",
   "execution_count": 22,
   "metadata": {},
   "outputs": [],
   "source": [
    "train_df.to_csv('../data/dataset/model2_train.csv', index=False)\n",
    "valid_df.to_csv('../data/dataset/model2_valid.csv', index=False)\n",
    "test_df.to_csv('../data/dataset/model2_test.csv', index=False)"
   ]
  }
 ],
 "metadata": {
  "kernelspec": {
   "display_name": "Python 3 (ipykernel)",
   "language": "python",
   "name": "python3"
  },
  "language_info": {
   "codemirror_mode": {
    "name": "ipython",
    "version": 3
   },
   "file_extension": ".py",
   "mimetype": "text/x-python",
   "name": "python",
   "nbconvert_exporter": "python",
   "pygments_lexer": "ipython3",
   "version": "3.12.7"
  }
 },
 "nbformat": 4,
 "nbformat_minor": 2
}

{
 "cells": [
  {
   "cell_type": "code",
   "execution_count": null,
   "metadata": {},
   "outputs": [],
   "source": [
    "import spacy\n",
    "import os\n",
    "from tqdm.notebook import tqdm\n",
    "import pandas as pd"
   ]
  },
  {
   "cell_type": "code",
   "execution_count": null,
   "metadata": {},
   "outputs": [],
   "source": [
    "nlp = spacy.load(\"fr_core_news_sm\")\n",
    "brute_sentences_df = pd.read_csv('../data/dataset/brute_sentences.csv')\n",
    "train_station_df = pd.read_csv('../data/liste-des-gares.csv', sep=';')"
   ]
  },
  {
   "cell_type": "code",
   "execution_count": 6,
   "metadata": {},
   "outputs": [
    {
     "ename": "NameError",
     "evalue": "name 'tqdm' is not defined",
     "output_type": "error",
     "traceback": [
      "\u001b[0;31m---------------------------------------------------------------------------\u001b[0m",
      "\u001b[0;31mNameError\u001b[0m                                 Traceback (most recent call last)",
      "Cell \u001b[0;32mIn[6], line 5\u001b[0m\n\u001b[1;32m      1\u001b[0m clean_df \u001b[38;5;241m=\u001b[39m []\n\u001b[1;32m      3\u001b[0m \u001b[38;5;66;03m# GOAL: make a IOB Tagging style dataset\u001b[39;00m\n\u001b[1;32m      4\u001b[0m \u001b[38;5;66;03m# NEEDS: Loop on every train station and sentences (dataset of size 750k)\u001b[39;00m\n\u001b[0;32m----> 5\u001b[0m \u001b[38;5;28;01mwith\u001b[39;00m tqdm(total\u001b[38;5;241m=\u001b[39m\u001b[38;5;28mlen\u001b[39m(train_station_df) \u001b[38;5;241m*\u001b[39m \u001b[38;5;28mlen\u001b[39m(brute_sentences_df), unit\u001b[38;5;241m=\u001b[39m\u001b[38;5;124m\"\u001b[39m\u001b[38;5;124mtrain station\u001b[39m\u001b[38;5;124m\"\u001b[39m) \u001b[38;5;28;01mas\u001b[39;00m pbar:\n\u001b[1;32m      6\u001b[0m     \u001b[38;5;28;01mfor\u001b[39;00m departure_index, train_station \u001b[38;5;129;01min\u001b[39;00m \u001b[38;5;28mzip\u001b[39m(train_station_df\u001b[38;5;241m.\u001b[39mindex, train_station_df[\u001b[38;5;124m\"\u001b[39m\u001b[38;5;124mLIBELLE\u001b[39m\u001b[38;5;124m\"\u001b[39m]):\n\u001b[1;32m      7\u001b[0m         departure \u001b[38;5;241m=\u001b[39m train_station\n",
      "\u001b[0;31mNameError\u001b[0m: name 'tqdm' is not defined"
     ]
    }
   ],
   "source": [
    "clean_df = []\n",
    "\n",
    "# GOAL: make a IOB Tagging style dataset\n",
    "# NEEDS: Loop on every train station and sentences (dataset of size 750k)\n",
    "with tqdm(total=len(train_station_df) * len(brute_sentences_df), unit=\"train station\") as pbar:\n",
    "    for train_station in train_station_df[\"LIBELLE\"]:\n",
    "        departure = train_station\n",
    "        sentences = []\n",
    "\n",
    "        for sentence in brute_sentences_df[\"sentence\"]:\n",
    "            arrival = train_station_df.sample()\n",
    "            new_sentence = sentence.replace('[departure]', departure)\n",
    "            new_sentence = new_sentence.replace('[arrival]', arrival[\"LIBELLE\"].values[0])\n",
    "            doc_sentence = nlp(sentence)\n",
    "\n",
    "            for word in [token_word.text for token_word in doc_sentence]:\n",
    "                if (word in [\"[departure]\", \"[arrival]\"]):\n",
    "                    if(word == \"[departure]\"):\n",
    "                        actual_word = departure\n",
    "                    else:\n",
    "                        actual_word = arrival[\"LIBELLE\"].values[0]\n",
    "\n",
    "                    doc_word = nlp(word)\n",
    "                    for sub_word_idx, sub_word in enumerate([token_sub_word.text for token_sub_word in doc_word]):\n",
    "                        if (sub_word_idx == 0) :\n",
    "                            clean_df.append(\n",
    "                                {\n",
    "                                    \"word\": actual_word,\n",
    "                                    \"status\": \"B\"\n",
    "                                }\n",
    "                            )\n",
    "                            continue\n",
    "                        clean_df.append(\n",
    "                            {\n",
    "                                \"word\": actual_word,\n",
    "                                \"status\": \"I\"\n",
    "                            }\n",
    "                        )\n",
    "                        continue\n",
    "                    clean_df.append(\n",
    "                        {\n",
    "                            \"word\": word,\n",
    "                            \"status\": \"O\"\n",
    "                        }\n",
    "                    )\n",
    "\n",
    "            pbar.update(1)\n",
    "\n",
    "clean_df = pd.DataFrame(clean_df)"
   ]
  },
  {
   "cell_type": "code",
   "execution_count": 39,
   "metadata": {},
   "outputs": [],
   "source": [
    "clean_df_shuffled = clean_df.sample(frac=1)\n",
    "train_df = clean_df_shuffled[:int(len(clean_df_shuffled)*0.7)]\n",
    "valid_df = clean_df_shuffled[int(len(clean_df_shuffled)*0.7):int(len(clean_df_shuffled)*0.85)]\n",
    "test_df = clean_df_shuffled[int(len(clean_df_shuffled)*0.85):]"
   ]
  },
  {
   "cell_type": "code",
   "execution_count": 40,
   "metadata": {},
   "outputs": [],
   "source": [
    "train_df.to_csv('./data/dataset/departure_train.csv', index=False)\n",
    "valid_df.to_csv('./data/dataset/departure_valid.csv', index=False)\n",
    "test_df.to_csv('./data/dataset/departure_test.csv', index=False)"
   ]
  }
 ],
 "metadata": {
  "kernelspec": {
   "display_name": "Python 3 (ipykernel)",
   "language": "python",
   "name": "python3"
  },
  "language_info": {
   "codemirror_mode": {
    "name": "ipython",
    "version": 3
   },
   "file_extension": ".py",
   "mimetype": "text/x-python",
   "name": "python",
   "nbconvert_exporter": "python",
   "pygments_lexer": "ipython3",
   "version": "3.12.2"
  }
 },
 "nbformat": 4,
 "nbformat_minor": 2
}

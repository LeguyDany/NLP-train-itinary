{
 "cells": [
  {
   "cell_type": "code",
   "execution_count": 118,
   "metadata": {},
   "outputs": [],
   "source": [
    "import spacy\n",
    "from tqdm.notebook import tqdm\n",
    "import pandas as pd"
   ]
  },
  {
   "cell_type": "code",
   "execution_count": 119,
   "metadata": {},
   "outputs": [],
   "source": [
    "nlp = spacy.load(\"fr_core_news_sm\")\n",
    "brute_sentences_df = pd.read_csv('../data/dataset/brute_sentences_2.csv')\n",
    "train_station_df = pd.read_csv('../data/liste-des-gares.csv', sep=';')"
   ]
  },
  {
   "cell_type": "code",
   "execution_count": 120,
   "metadata": {},
   "outputs": [],
   "source": [
    "def apply_iob_to_sentence(doc_sentence, clean_df, departure, arrival):\n",
    "    for word in [token_word.text for token_word in doc_sentence]:\n",
    "        if (word in [\"departure\", \"arrival\", \"none\", \"intermediary\"]):\n",
    "            plus_sub_words = str(train_station_df.sample()['LIBELLE'].values[0])\n",
    "            plus_sub_words = plus_sub_words.split()\n",
    "            sub_words = (str(departure).split() if word == \"DEPARTURE\" else str(arrival).split())\n",
    "\n",
    "            for sub_word_idx, sub_word in enumerate((sub_words if word in [\"departure\", \"arrival\"] else plus_sub_words)):\n",
    "                if (sub_word_idx == 0) :\n",
    "                    clean_df.append(\n",
    "                        {\n",
    "                            \"word\": sub_word,\n",
    "                            \"status\": \"B\"\n",
    "                        }\n",
    "                    )\n",
    "                    continue\n",
    "                clean_df.append(\n",
    "                    {\n",
    "                        \"word\": sub_word,\n",
    "                        \"status\": \"I\"\n",
    "                    }\n",
    "                )\n",
    "            continue\n",
    "        clean_df.append(\n",
    "            {\n",
    "                \"word\": word,\n",
    "                \"status\": \"O\"\n",
    "            }\n",
    "        )"
   ]
  },
  {
   "cell_type": "code",
   "execution_count": 122,
   "metadata": {},
   "outputs": [
    {
     "data": {
      "application/vnd.jupyter.widget-view+json": {
       "model_id": "05a3675adbaa420ba50f85679fa0c394",
       "version_major": 2,
       "version_minor": 0
      },
      "text/plain": [
       "  0%|          | 0/4530 [00:00<?, ?sentence/s]"
      ]
     },
     "metadata": {},
     "output_type": "display_data"
    },
    {
     "ename": "TypeError",
     "evalue": "'str' object is not callable",
     "output_type": "error",
     "traceback": [
      "\u001b[1;31m---------------------------------------------------------------------------\u001b[0m",
      "\u001b[1;31mTypeError\u001b[0m                                 Traceback (most recent call last)",
      "Cell \u001b[1;32mIn[122], line 10\u001b[0m\n\u001b[0;32m      7\u001b[0m arrival \u001b[38;5;241m=\u001b[39m train_station_df\u001b[38;5;241m.\u001b[39msample()[\u001b[38;5;124m\"\u001b[39m\u001b[38;5;124mLIBELLE\u001b[39m\u001b[38;5;124m\"\u001b[39m]\u001b[38;5;241m.\u001b[39mvalues[\u001b[38;5;241m0\u001b[39m]\n\u001b[0;32m      9\u001b[0m \u001b[38;5;28;01mwhile\u001b[39;00m(arrival \u001b[38;5;241m==\u001b[39m departure):\n\u001b[1;32m---> 10\u001b[0m     arrival \u001b[38;5;241m=\u001b[39m \u001b[38;5;28mstr\u001b[39m(train_station_df\u001b[38;5;241m.\u001b[39msample()[\u001b[38;5;124m\"\u001b[39m\u001b[38;5;124mLIBELLE\u001b[39m\u001b[38;5;124m\"\u001b[39m]\u001b[38;5;241m.\u001b[39mvalues[\u001b[38;5;241m0\u001b[39m])\n\u001b[0;32m     12\u001b[0m doc_sentence \u001b[38;5;241m=\u001b[39m nlp(sentence)\n\u001b[0;32m     14\u001b[0m apply_iob_to_sentence(\n\u001b[0;32m     15\u001b[0m     doc_sentence,\n\u001b[0;32m     16\u001b[0m     clean_df,\n\u001b[0;32m     17\u001b[0m     departure,\n\u001b[0;32m     18\u001b[0m     arrival\n\u001b[0;32m     19\u001b[0m )\n",
      "\u001b[1;31mTypeError\u001b[0m: 'str' object is not callable"
     ]
    }
   ],
   "source": [
    "clean_df = [{\"word\": \"END\", \"status\": \"O\"}]\n",
    "\n",
    "with tqdm(total= 30 * len(brute_sentences_df), unit=\"sentence\") as pbar:\n",
    "    for idx, sentence in enumerate(brute_sentences_df[\"sentence\"]):\n",
    "        for i in range(100):\n",
    "            departure = train_station_df.sample()[\"LIBELLE\"].values[0]\n",
    "            arrival = train_station_df.sample()[\"LIBELLE\"].values[0]\n",
    "\n",
    "            while(arrival == departure):\n",
    "                arrival = train_station_df.sample()[\"LIBELLE\"].values[0]\n",
    "\n",
    "            doc_sentence = nlp(sentence)\n",
    "\n",
    "            apply_iob_to_sentence(\n",
    "                doc_sentence,\n",
    "                clean_df,\n",
    "                departure,\n",
    "                arrival\n",
    "            )\n",
    "\n",
    "            clean_df.append(\n",
    "                {\n",
    "                    \"word\": \"END\",\n",
    "                    \"status\": \"O\" \n",
    "                }               \n",
    "            )\n",
    "            pbar.update(1)\n",
    "\n",
    "clean_df = pd.DataFrame(clean_df)"
   ]
  },
  {
   "cell_type": "code",
   "execution_count": 95,
   "metadata": {},
   "outputs": [
    {
     "data": {
      "application/vnd.jupyter.widget-view+json": {
       "model_id": "fe91cbb3a6d644efba4847fb0ed20404",
       "version_major": 2,
       "version_minor": 0
      },
      "text/plain": [
       "  0%|          | 0/95087 [00:00<?, ?sentence/s]"
      ]
     },
     "metadata": {},
     "output_type": "display_data"
    }
   ],
   "source": [
    "new_df = pd.DataFrame(columns=[\"sub_sentence\", \"status\"])\n",
    "\n",
    "with tqdm(\n",
    "    total=clean_df.shape[0] - 4,\n",
    "    unit=\"sentence\") as pbar:\n",
    "    for idx, row in clean_df.iloc[:-4].iterrows():\n",
    "        sub_sentence = f\"{clean_df.iloc[idx - 1].word}[{clean_df.iloc[idx - 1].status}] \"\n",
    "        additional_words = \" \".join([word for word in clean_df.iloc[idx : idx + 3].word])\n",
    "        sub_sentence += additional_words\n",
    "\n",
    "        new_row = {\n",
    "            \"sub_sentence\": sub_sentence,\n",
    "            \"status\": clean_df.iloc[idx].status\n",
    "        }\n",
    "        new_df = pd.concat([new_df, pd.DataFrame([new_row])], ignore_index=True)\n",
    "        pbar.update(1)"
   ]
  },
  {
   "cell_type": "code",
   "execution_count": 96,
   "metadata": {},
   "outputs": [],
   "source": [
    "new_df_shuffled = new_df.sample(frac=1)\n",
    "train_df = new_df_shuffled[:int(len(new_df_shuffled)*0.7)]\n",
    "valid_df = new_df_shuffled[int(len(new_df_shuffled)*0.7):int(len(new_df_shuffled)*0.85)]\n",
    "test_df = new_df_shuffled[int(len(new_df_shuffled)*0.85):]"
   ]
  },
  {
   "cell_type": "code",
   "execution_count": 115,
   "metadata": {},
   "outputs": [
    {
     "name": "stdout",
     "output_type": "stream",
     "text": [
      "malaunay-le[b] houlme , quels\n"
     ]
    }
   ],
   "source": [
    "for i in train_df.loc[train_df[\"status\"] == \"I\"].head(20)[\"sub_sentence\"]:\n",
    "    print(i.lower())\n",
    "    break"
   ]
  },
  {
   "cell_type": "code",
   "execution_count": 69,
   "metadata": {},
   "outputs": [],
   "source": [
    "train_df.to_csv('../data/dataset/ner_train.csv', index=False)\n",
    "valid_df.to_csv('../data/dataset/ner_valid.csv', index=False)\n",
    "test_df.to_csv('../data/dataset/ner_test.csv', index=False)"
   ]
  }
 ],
 "metadata": {
  "kernelspec": {
   "display_name": "Python 3 (ipykernel)",
   "language": "python",
   "name": "python3"
  },
  "language_info": {
   "codemirror_mode": {
    "name": "ipython",
    "version": 3
   },
   "file_extension": ".py",
   "mimetype": "text/x-python",
   "name": "python",
   "nbconvert_exporter": "python",
   "pygments_lexer": "ipython3",
   "version": "3.12.7"
  }
 },
 "nbformat": 4,
 "nbformat_minor": 2
}

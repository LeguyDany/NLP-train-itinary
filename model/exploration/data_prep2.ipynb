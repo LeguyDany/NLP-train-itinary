{
 "cells": [
  {
   "cell_type": "code",
   "execution_count": 85,
   "metadata": {},
   "outputs": [],
   "source": [
    "import spacy\n",
    "from tqdm.notebook import tqdm\n",
    "import pandas as pd"
   ]
  },
  {
   "cell_type": "code",
   "execution_count": 86,
   "metadata": {},
   "outputs": [],
   "source": [
    "nlp = spacy.load(\"fr_core_news_sm\")\n",
    "brute_sentences_df = pd.read_csv('../data/dataset/brute_sentences_2.csv')\n",
    "train_station_df = pd.read_csv('../data/liste-des-gares.csv', sep=';')"
   ]
  },
  {
   "cell_type": "code",
   "execution_count": 87,
   "metadata": {},
   "outputs": [],
   "source": [
    "def apply_iob_to_sentence(doc_sentence, clean_df, departure, arrival):\n",
    "    for word in [token_word.text for token_word in doc_sentence]:\n",
    "        if (word in [\"DEPARTURE\", \"ARRIVAL\", \"NONE\", \"INTERMEDIARY\"]):\n",
    "            plus_sub_words = str(train_station_df.sample()['LIBELLE'].values[0])\n",
    "            plus_sub_words = plus_sub_words.split()\n",
    "            sub_words = (str(departure).split() if word == \"DEPARTURE\" else str(arrival).split())\n",
    "\n",
    "            for sub_word_idx, sub_word in enumerate((sub_words if word in [\"DEPARTURE\", \"ARRIVAL\"] else plus_sub_words)):\n",
    "                if (sub_word_idx == 0) :\n",
    "                    clean_df.append(\n",
    "                        {\n",
    "                            \"word\": sub_word,\n",
    "                            \"status\": \"B\"\n",
    "                        }\n",
    "                    )\n",
    "                    continue\n",
    "                clean_df.append(\n",
    "                    {\n",
    "                        \"word\": sub_word,\n",
    "                        \"status\": \"I\"\n",
    "                    }\n",
    "                )\n",
    "            continue\n",
    "        clean_df.append(\n",
    "            {\n",
    "                \"word\": word,\n",
    "                \"status\": \"O\"\n",
    "            }\n",
    "        )"
   ]
  },
  {
   "cell_type": "code",
   "execution_count": 88,
   "metadata": {},
   "outputs": [
    {
     "data": {
      "application/vnd.jupyter.widget-view+json": {
       "model_id": "ddef16d9f7f64fc4b52da498d0022263",
       "version_major": 2,
       "version_minor": 0
      },
      "text/plain": [
       "  0%|          | 0/151000 [00:00<?, ?train station/s]"
      ]
     },
     "metadata": {},
     "output_type": "display_data"
    }
   ],
   "source": [
    "clean_df = [{\"word\": None, \"status\": None}]\n",
    "\n",
    "with tqdm(total= 1000 * len(brute_sentences_df), unit=\"train station\") as pbar:\n",
    "    for idx, sentence in enumerate(brute_sentences_df[\"sentence\"]):\n",
    "        for i in range(1000):\n",
    "            departure = str(train_station_df.sample()[\"LIBELLE\"].values[0])\n",
    "            arrival = str(train_station_df.sample()[\"LIBELLE\"].values[0])\n",
    "\n",
    "            while(arrival == departure):\n",
    "                arrival = str(train_station_df.sample()[\"LIBELLE\"].values[0])\n",
    "\n",
    "            doc_sentence = nlp(sentence)\n",
    "\n",
    "            apply_iob_to_sentence(\n",
    "                doc_sentence,\n",
    "                clean_df,\n",
    "                departure,\n",
    "                arrival\n",
    "            )\n",
    "\n",
    "            clean_df.append(\n",
    "                {\n",
    "                    \"word\": None,\n",
    "                    \"status\": None\n",
    "                }               \n",
    "            )\n",
    "            pbar.update(1)\n",
    "\n",
    "clean_df = pd.DataFrame(clean_df)"
   ]
  },
  {
   "cell_type": "code",
   "execution_count": 96,
   "metadata": {},
   "outputs": [
    {
     "data": {
      "application/vnd.jupyter.widget-view+json": {
       "model_id": "40a1cb58de894f57b338cbbe9d5a293f",
       "version_major": 2,
       "version_minor": 0
      },
      "text/plain": [
       "  0%|          | 0/50000 [00:00<?, ?sentence/s]"
      ]
     },
     "metadata": {},
     "output_type": "display_data"
    }
   ],
   "source": [
    "new_df = pd.DataFrame(columns=[\"sub_sentence\", \"status\"])\n",
    "\n",
    "with tqdm(\n",
    "    # total=clean_df.shape[0],\n",
    "    total=50000,\n",
    "    unit=\"sentence\") as pbar:\n",
    "    for idx, row in clean_df.iloc[1:50000].iterrows():\n",
    "        sub_sentence = f\"{clean_df.iloc[idx - 1].word}[{clean_df.iloc[idx - 1].status}] \"\n",
    "        sub_sentence += f\"{clean_df.iloc[idx].word} {clean_df.iloc[idx + 1].word}\"\n",
    "        \n",
    "        new_row = {\n",
    "            \"sub_sentence\": sub_sentence,\n",
    "            \"status\": clean_df.iloc[idx].status\n",
    "        }\n",
    "        new_df = pd.concat([new_df, pd.DataFrame([new_row])], ignore_index=True)\n",
    "        pbar.update(1)"
   ]
  },
  {
   "cell_type": "code",
   "execution_count": 100,
   "metadata": {},
   "outputs": [],
   "source": [
    "new_df_shuffled = new_df.sample(frac=1)\n",
    "train_df = new_df_shuffled[:int(len(new_df_shuffled)*0.7)]\n",
    "valid_df = new_df_shuffled[int(len(new_df_shuffled)*0.7):int(len(new_df_shuffled)*0.85)]\n",
    "test_df = new_df_shuffled[int(len(new_df_shuffled)*0.85):]"
   ]
  },
  {
   "cell_type": "code",
   "execution_count": 102,
   "metadata": {},
   "outputs": [],
   "source": [
    "train_df.to_csv('../data/dataset/ner_train.csv', index=False)\n",
    "valid_df.to_csv('../data/dataset/ner_valid.csv', index=False)\n",
    "test_df.to_csv('../data/dataset/ner_test.csv', index=False)"
   ]
  }
 ],
 "metadata": {
  "kernelspec": {
   "display_name": "Python 3 (ipykernel)",
   "language": "python",
   "name": "python3"
  },
  "language_info": {
   "codemirror_mode": {
    "name": "ipython",
    "version": 3
   },
   "file_extension": ".py",
   "mimetype": "text/x-python",
   "name": "python",
   "nbconvert_exporter": "python",
   "pygments_lexer": "ipython3",
   "version": "3.12.2"
  }
 },
 "nbformat": 4,
 "nbformat_minor": 2
}

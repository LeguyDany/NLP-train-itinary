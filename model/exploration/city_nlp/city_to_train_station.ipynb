{
 "cells": [
  {
   "cell_type": "code",
   "execution_count": 40,
   "metadata": {},
   "outputs": [],
   "source": [
    "import pandas as pd\n",
    "from tqdm.notebook import tqdm\n",
    "from rapidfuzz import process"
   ]
  },
  {
   "cell_type": "code",
   "execution_count": 42,
   "metadata": {},
   "outputs": [],
   "source": [
    "import os\n",
    "import sys\n",
    "\n",
    "src_dir = os.path.join(os.getcwd(), \"..\", \"..\")\n",
    "from importlib import reload\n",
    "sys.path.append(os.path.abspath(src_dir))\n",
    "\n",
    "import src.helpers.city_to_train_station\n",
    "\n",
    "reload(src.helpers.city_to_train_station)\n",
    "\n",
    "from src.helpers.city_to_train_station import  CityToTrainHelper"
   ]
  },
  {
   "cell_type": "code",
   "execution_count": 43,
   "metadata": {},
   "outputs": [],
   "source": [
    "train_station_df = pd.read_csv('../data/liste-des-gares.csv', sep=';')\n",
    "cities_df = pd.read_csv('../data/cities.csv')\n",
    "\n",
    "\n",
    "city_names_df = cities_df[[\"label\", \"latitude\", \"longitude\", \"region_name\", \"department_name\"]].copy()\n",
    "city_names_df.rename(columns={\"region_name\": \"region\", \"department_name\": \"department\"}, inplace=True)\n",
    "city_names_df[\"class_name\"] = \"city\"\n",
    "\n",
    "train_station_names_df = pd.DataFrame(train_station_df[\"LIBELLE\"]).copy()\n",
    "train_station_names_df.rename(columns={\"LIBELLE\": \"label\"}, inplace=True)\n",
    "train_station_names_df[[\"latitude\", \"longitude\"]] = train_station_df[\"C_GEO\"].str.split(',', expand=True).astype(float)\n",
    "train_station_names_df[\"class_name\"] = \"train_station\""
   ]
  },
  {
   "cell_type": "code",
   "execution_count": 47,
   "metadata": {},
   "outputs": [],
   "source": [
    "all_names_df = pd.concat([city_names_df, train_station_names_df], ignore_index=True)\n",
    "all_names_df = all_names_df.drop(\n",
    "    all_names_df.loc[all_names_df[\"latitude\"].isna()].index\n",
    ")"
   ]
  },
  {
   "cell_type": "code",
   "execution_count": 48,
   "metadata": {},
   "outputs": [
    {
     "data": {
      "application/vnd.jupyter.widget-view+json": {
       "model_id": "e4dc674e0c4e42df9e6f9142133cc392",
       "version_major": 2,
       "version_minor": 0
      },
      "text/plain": [
       "  0%|          | 0/38934 [00:00<?, ?name/s]"
      ]
     },
     "metadata": {},
     "output_type": "display_data"
    }
   ],
   "source": [
    "helper = CityToTrainHelper()\n",
    "\n",
    "with tqdm(total=all_names_df.loc[all_names_df[\"class_name\"] == \"city\"].shape[0], unit=\"name\") as pbar:\n",
    "    for row in all_names_df.loc[all_names_df[\"class_name\"] == \"city\"].iterrows():\n",
    "        nearest_train_station = helper.calculate_nearest_station(row[1][\"label\"]).LIBELLE.values[0]\n",
    "        all_names_df.loc[all_names_df[\"label\"] == row[1][\"label\"], \"nearest_train_station\"] = nearest_train_station\n",
    "        \n",
    "        pbar.update(1)"
   ]
  },
  {
   "cell_type": "code",
   "execution_count": 54,
   "metadata": {},
   "outputs": [],
   "source": [
    "def sanitize_string(column):\n",
    "    column = column.str.lower()\n",
    "    column = column.str.replace(\"-\", \" \")\n",
    "    return column"
   ]
  },
  {
   "cell_type": "code",
   "execution_count": 55,
   "metadata": {},
   "outputs": [],
   "source": [
    "all_names_df[\"label\"] = sanitize_string(all_names_df[\"label\"])\n",
    "all_names_df[\"region\"] = sanitize_string(all_names_df[\"region\"])\n",
    "all_names_df[\"department\"] = sanitize_string(all_names_df[\"department\"])\n",
    "\n",
    "all_names_df.loc[all_names_df[\"class_name\"] == \"train_station\", \"nearest_train_station\"] = \"-\""
   ]
  },
  {
   "cell_type": "code",
   "execution_count": 58,
   "metadata": {},
   "outputs": [],
   "source": [
    "def fuzzy_search(name):\n",
    "    name = name.lower().replace(\"-\", \" \")\n",
    "    result_df = []\n",
    "\n",
    "    result_label = process.extractOne(name, all_names_df[\"label\"].values)\n",
    "    result_region = process.extractOne(name, all_names_df[\"region\"].values)\n",
    "    result_department = process.extractOne(name, all_names_df[\"department\"].values)\n",
    "\n",
    "    result_df.append(\n",
    "        {\"name\": result_label[0], \"score\": result_label[1], \"class_name\": \"city\"}\n",
    "    )\n",
    "\n",
    "    result_df.append(\n",
    "        {\"name\": result_region[0], \"score\": result_region[1], \"class_name\": \"region\"}\n",
    "    )\n",
    "    \n",
    "    result_df.append(\n",
    "        {\"name\": result_department[0], \"score\": result_department[1], \"class_name\": \"department\"}\n",
    "    )\n",
    "\n",
    "    result_df = pd.DataFrame(result_df)\n",
    "\n",
    "    if not result_df.empty:\n",
    "        best_result = result_df.loc[result_df[\"score\"].idxmax()]\n",
    "        return best_result[\"name\"]\n",
    "    else:\n",
    "        return None"
   ]
  },
  {
   "cell_type": "code",
   "execution_count": 59,
   "metadata": {},
   "outputs": [
    {
     "data": {
      "text/plain": [
       "'paris gare de lyon'"
      ]
     },
     "execution_count": 59,
     "metadata": {},
     "output_type": "execute_result"
    }
   ],
   "source": [
    "fuzzy_search(\"paris gare de lyon\")"
   ]
  },
  {
   "cell_type": "code",
   "execution_count": 60,
   "metadata": {},
   "outputs": [],
   "source": [
    "all_names_df.to_csv(\"../data/cities_and_train_stations.csv\", index=False)"
   ]
  }
 ],
 "metadata": {
  "kernelspec": {
   "display_name": "Python 3 (ipykernel)",
   "language": "python",
   "name": "python3"
  },
  "language_info": {
   "codemirror_mode": {
    "name": "ipython",
    "version": 3
   },
   "file_extension": ".py",
   "mimetype": "text/x-python",
   "name": "python",
   "nbconvert_exporter": "python",
   "pygments_lexer": "ipython3",
   "version": "3.12.2"
  }
 },
 "nbformat": 4,
 "nbformat_minor": 2
}

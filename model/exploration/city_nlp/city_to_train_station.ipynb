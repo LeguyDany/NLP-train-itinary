{
 "cells": [
  {
   "cell_type": "code",
   "execution_count": 99,
   "metadata": {},
   "outputs": [],
   "source": [
    "import pandas as pd\n",
    "import numpy as np\n",
    "from tqdm.notebook import tqdm\n",
    "from rapidfuzz import process"
   ]
  },
  {
   "cell_type": "code",
   "execution_count": 63,
   "metadata": {},
   "outputs": [],
   "source": [
    "import os\n",
    "import sys\n",
    "\n",
    "src_dir = os.path.join(os.getcwd(), \"..\", \"..\")\n",
    "from importlib import reload\n",
    "sys.path.append(os.path.abspath(src_dir))\n",
    "\n",
    "import src.helpers.city_to_train_station\n",
    "\n",
    "reload(src.helpers.city_to_train_station)\n",
    "\n",
    "from src.helpers.city_to_train_station import VisualizerHelper"
   ]
  },
  {
   "cell_type": "code",
   "execution_count": 35,
   "metadata": {},
   "outputs": [],
   "source": [
    "train_station_df = pd.read_csv('../data/liste-des-gares.csv', sep=';')\n",
    "cities_df = pd.read_csv('../data/cities.csv')\n",
    "\n",
    "\n",
    "city_names_df = cities_df[[\"label\", \"latitude\", \"longitude\", \"region_name\", \"department_name\"]].copy()\n",
    "city_names_df.rename(columns={\"region_name\": \"region\", \"department_name\": \"department\"}, inplace=True)\n",
    "city_names_df[\"status\"] = \"city\"\n",
    "\n",
    "train_station_names_df = pd.DataFrame(train_station_df[\"LIBELLE\"]).copy()\n",
    "train_station_names_df.rename(columns={\"LIBELLE\": \"label\"}, inplace=True)\n",
    "train_station_names_df[[\"latitude\", \"longitude\"]] = train_station_df[\"C_GEO\"].str.split(',', expand=True).astype(float)\n",
    "train_station_names_df[\"status\"] = \"train_station\""
   ]
  },
  {
   "cell_type": "code",
   "execution_count": 293,
   "metadata": {},
   "outputs": [],
   "source": [
    "all_names_df = pd.concat([city_names_df, train_station_names_df], ignore_index=True)\n",
    "all_names_df[\"label\"] = all_names_df[\"label\"].str.lower()\n",
    "all_names_df[\"label\"] = all_names_df[\"label\"].str.replace(\"-\", \" \")\n",
    "all_names_df[\"region\"] = all_names_df[\"region\"].str.lower()\n",
    "all_names_df[\"region\"] = all_names_df[\"region\"].str.replace(\"-\", \" \")\n",
    "all_names_df[\"department\"] = all_names_df[\"department\"].str.lower()\n",
    "all_names_df[\"department\"] = all_names_df[\"department\"].str.replace(\"-\", \" \")\n",
    "all_names_df.loc[all_names_df[\"status\"] == \"train_station\", [\"region\", \"department\"]] = \"-\""
   ]
  },
  {
   "cell_type": "code",
   "execution_count": 100,
   "metadata": {},
   "outputs": [
    {
     "data": {
      "application/vnd.jupyter.widget-view+json": {
       "model_id": "595063c56c864d8d9c3ba221e819238b",
       "version_major": 2,
       "version_minor": 0
      },
      "text/plain": [
       "  0%|          | 0/38932 [00:00<?, ?name/s]"
      ]
     },
     "metadata": {},
     "output_type": "display_data"
    },
    {
     "name": "stderr",
     "output_type": "stream",
     "text": [
      "0.00s - Debugger warning: It seems that frozen modules are being used, which may\n",
      "0.00s - make the debugger miss breakpoints. Please pass -Xfrozen_modules=off\n",
      "0.00s - to python to disable frozen modules.\n",
      "0.00s - Note: Debugging will proceed. Set PYDEVD_DISABLE_FILE_VALIDATION=1 to disable this validation.\n"
     ]
    }
   ],
   "source": [
    "helper = VisualizerHelper()\n",
    "\n",
    "with tqdm(total=all_names_df.loc[all_names_df[\"status\"] == \"city\"].shape[0], unit=\"name\") as pbar:\n",
    "    for row in all_names_df.loc[all_names_df[\"status\"] == \"city\"].iterrows():\n",
    "        nearest_train_station = helper.get_nearest_station(row[1][\"label\"]).LIBELLE.values[0]\n",
    "        all_names_df.loc[all_names_df[\"label\"] == row[1][\"label\"], \"nearest_train_station\"] = nearest_train_station\n",
    "        \n",
    "        pbar.update(1)"
   ]
  },
  {
   "cell_type": "code",
   "execution_count": 105,
   "metadata": {},
   "outputs": [],
   "source": [
    "all_names_df = all_names_df.drop(\n",
    "    all_names_df.loc[\n",
    "        (all_names_df[\"status\"] == \"city\") & (all_names_df[\"nearest_train_station\"].isna())\n",
    "    ].index\n",
    ")\n",
    "all_names_df.loc[all_names_df[\"status\"] == \"train_station\", \"nearest_train_station\"] = \"-\"\n"
   ]
  },
  {
   "cell_type": "code",
   "execution_count": 250,
   "metadata": {},
   "outputs": [],
   "source": [
    "def fuzzy_search(name):\n",
    "    name = name.lower().replace(\"-\", \" \")\n",
    "    result_df = []\n",
    "\n",
    "    result_label = process.extractOne(name, all_names_df[\"label\"].values)\n",
    "    result_region = process.extractOne(name, all_names_df[\"region\"].values)\n",
    "    result_department = process.extractOne(name, all_names_df[\"department\"].values)\n",
    "\n",
    "    result_df.append(\n",
    "        {\"name\": result_label[0], \"score\": result_label[1], \"status\": \"city\"}\n",
    "    )\n",
    "\n",
    "    result_df.append(\n",
    "        {\"name\": result_region[0], \"score\": result_region[1], \"status\": \"region\"}\n",
    "    )\n",
    "    \n",
    "    result_df.append(\n",
    "        {\"name\": result_department[0], \"score\": result_department[1], \"status\": \"department\"}\n",
    "    )\n",
    "\n",
    "    result_df = pd.DataFrame(result_df)\n",
    "\n",
    "    if not result_df.empty:\n",
    "        best_result = result_df.loc[result_df[\"score\"].idxmax()]\n",
    "        return best_result\n",
    "    else:\n",
    "        return None"
   ]
  },
  {
   "cell_type": "code",
   "execution_count": 303,
   "metadata": {},
   "outputs": [
    {
     "name": "stdout",
     "output_type": "stream",
     "text": [
      "       name  score      status\n",
      "0  bretagne  100.0        city\n",
      "1  bretagne  100.0      region\n",
      "2      tarn   67.5  department\n"
     ]
    },
    {
     "data": {
      "text/plain": [
       "name      bretagne\n",
       "score        100.0\n",
       "status        city\n",
       "Name: 0, dtype: object"
      ]
     },
     "execution_count": 303,
     "metadata": {},
     "output_type": "execute_result"
    }
   ],
   "source": [
    "fuzzy_search(\"Bretagne\")"
   ]
  },
  {
   "cell_type": "code",
   "execution_count": 167,
   "metadata": {},
   "outputs": [],
   "source": [
    "all_names_df.to_csv(\"../data/cities_and_train_stations.csv\", index=False)"
   ]
  }
 ],
 "metadata": {
  "kernelspec": {
   "display_name": "Python 3 (ipykernel)",
   "language": "python",
   "name": "python3"
  },
  "language_info": {
   "codemirror_mode": {
    "name": "ipython",
    "version": 3
   },
   "file_extension": ".py",
   "mimetype": "text/x-python",
   "name": "python",
   "nbconvert_exporter": "python",
   "pygments_lexer": "ipython3",
   "version": "3.12.2"
  }
 },
 "nbformat": 4,
 "nbformat_minor": 2
}
